{
 "cells": [
  {
   "cell_type": "markdown",
   "id": "66032e6d-f14a-448e-ad11-ad7f1e117c9a",
   "metadata": {},
   "source": [
    "# Reading Data"
   ]
  },
  {
   "cell_type": "code",
   "execution_count": 1,
   "id": "4e87a4a5-7967-4c10-9e61-69df890626ee",
   "metadata": {},
   "outputs": [
    {
     "data": {
      "text/html": [
       "<div>\n",
       "<style scoped>\n",
       "    .dataframe tbody tr th:only-of-type {\n",
       "        vertical-align: middle;\n",
       "    }\n",
       "\n",
       "    .dataframe tbody tr th {\n",
       "        vertical-align: top;\n",
       "    }\n",
       "\n",
       "    .dataframe thead th {\n",
       "        text-align: right;\n",
       "    }\n",
       "</style>\n",
       "<table border=\"1\" class=\"dataframe\">\n",
       "  <thead>\n",
       "    <tr style=\"text-align: right;\">\n",
       "      <th></th>\n",
       "      <th>appointment_created_date</th>\n",
       "      <th>gender</th>\n",
       "      <th>Age Group</th>\n",
       "      <th>appointment_status</th>\n",
       "    </tr>\n",
       "  </thead>\n",
       "  <tbody>\n",
       "    <tr>\n",
       "      <th>0</th>\n",
       "      <td>9/1/2023</td>\n",
       "      <td>Female</td>\n",
       "      <td>0-15 yrs</td>\n",
       "      <td>Cancelled</td>\n",
       "    </tr>\n",
       "    <tr>\n",
       "      <th>1</th>\n",
       "      <td>9/1/2023</td>\n",
       "      <td>Female</td>\n",
       "      <td>0-15 yrs</td>\n",
       "      <td>Done</td>\n",
       "    </tr>\n",
       "    <tr>\n",
       "      <th>2</th>\n",
       "      <td>9/1/2023</td>\n",
       "      <td>Female</td>\n",
       "      <td>0-15 yrs</td>\n",
       "      <td>Done</td>\n",
       "    </tr>\n",
       "    <tr>\n",
       "      <th>3</th>\n",
       "      <td>9/1/2023</td>\n",
       "      <td>Female</td>\n",
       "      <td>0-15 yrs</td>\n",
       "      <td>Done</td>\n",
       "    </tr>\n",
       "    <tr>\n",
       "      <th>4</th>\n",
       "      <td>9/1/2023</td>\n",
       "      <td>Female</td>\n",
       "      <td>0-15 yrs</td>\n",
       "      <td>No Show</td>\n",
       "    </tr>\n",
       "  </tbody>\n",
       "</table>\n",
       "</div>"
      ],
      "text/plain": [
       "  appointment_created_date  gender Age Group appointment_status\n",
       "0                 9/1/2023  Female  0-15 yrs          Cancelled\n",
       "1                 9/1/2023  Female  0-15 yrs               Done\n",
       "2                 9/1/2023  Female  0-15 yrs               Done\n",
       "3                 9/1/2023  Female  0-15 yrs               Done\n",
       "4                 9/1/2023  Female  0-15 yrs            No Show"
      ]
     },
     "execution_count": 1,
     "metadata": {},
     "output_type": "execute_result"
    }
   ],
   "source": [
    "import numpy as np\n",
    "import pandas as pd\n",
    "df = pd.read_csv(r'E:\\Okadoc\\Data\\Data.csv')\n",
    "df.head()"
   ]
  },
  {
   "cell_type": "code",
   "execution_count": null,
   "id": "3f758bb7-5442-423a-820b-892b653e438e",
   "metadata": {},
   "outputs": [],
   "source": [
    "df.drop(columns=['appointment_created_date'],inplace=True)\n",
    "df.head(15)"
   ]
  },
  {
   "cell_type": "markdown",
   "id": "31834752-6291-49b9-b3a0-7cbf36998ca4",
   "metadata": {},
   "source": [
    "## Converting Categorical Data to Numbers"
   ]
  },
  {
   "cell_type": "code",
   "execution_count": 6,
   "id": "470bd780-456c-4157-8cda-d332e3e57a9b",
   "metadata": {},
   "outputs": [
    {
     "name": "stdout",
     "output_type": "stream",
     "text": [
      "[0 1 2 3 4 5 6]\n",
      "[0 1]\n",
      "[0 1 2 3]\n"
     ]
    }
   ],
   "source": [
    "from sklearn import preprocessing \n",
    "label_encoder = preprocessing.LabelEncoder() \n",
    "df['Age Group']= label_encoder.fit_transform(df['Age Group']) \n",
    "print(df['Age Group'].unique())\n",
    "df['gender']= label_encoder.fit_transform(df['gender']) \n",
    "print(df['gender'].unique())\n",
    "df['appointment_status']= label_encoder.fit_transform(df['appointment_status']) \n",
    "print(df['appointment_status'].unique())"
   ]
  },
  {
   "cell_type": "code",
   "execution_count": 7,
   "id": "607f21a4-f7fc-46f6-b7e2-e026e69fef9c",
   "metadata": {},
   "outputs": [],
   "source": [
    "X = df[['gender','Age Group']]\n",
    "y = df['appointment_status']"
   ]
  },
  {
   "cell_type": "code",
   "execution_count": 8,
   "id": "87ede65e-0fb6-4021-97b3-33fbccc0c144",
   "metadata": {},
   "outputs": [],
   "source": [
    "from sklearn.model_selection import train_test_split\n",
    "\n",
    "X_train, X_test, y_train, y_test = train_test_split(X, y , test_size=0.15, random_state=0)"
   ]
  },
  {
   "cell_type": "markdown",
   "id": "0bc84535-2420-4c7c-992b-475ffbbb48bf",
   "metadata": {},
   "source": [
    "### Applying KNN Model Because of High Accuracy"
   ]
  },
  {
   "cell_type": "code",
   "execution_count": 9,
   "id": "d402c9f4-67ed-4001-addd-8bd1ffbaac7e",
   "metadata": {},
   "outputs": [
    {
     "name": "stdout",
     "output_type": "stream",
     "text": [
      "[1 1 1 1 1 0 1 1 1 1 1 2 1 1 1 1 1 1 1 1 1 1 1 1 0 1 2 1 2 0 0 0 2 1 1 1 1\n",
      " 1 0 1 2 1 1 1 0 0 1 1 0 2 1 0 0 1 1 1 0 1 1 0 1 1 0 1 0 1 1 0 1 1 1 1 1 1\n",
      " 1 1 2 1 1 1 1 0 1 1 1 1 1 1 1 1 1 1 1 1 0 1 1 1 0 2 1 1 1 1 1 1 1 0 1 1 0\n",
      " 1 1 1 1 1 2 0 1 1 1 1 0 1 1 1 1 1 1 2 1 1 1 1 2 0 1 1 1 1 1 1 1 2 1 1 1 1\n",
      " 0 1 1 1 1 1 1 1 2 1 1 1 1 1 1 0 1 1 1 1 1 1 1 1 1 1 1 1 1 1 0 1 1 1 1 0 0\n",
      " 1 1 1 0 2 1 1 1 1 2 1 1 1 0 1 1 1 0 1 1 0 1 1 1 1 1 1 0 2 1 1 1 1 1 1 0 1\n",
      " 1 0 0 2 1 0 1 1 0 1 1 2 1 1 1 1 1 1 1 1 1 1 1 0 0 0 1 1 1 1 0 1 1 1 1 0 1\n",
      " 1 1 1 1 1 1 1 1 0 1 0 1 1 1 1 1 1 1 0 1 1 1 1 1 1 0 1 1 1 1 1 1 1 1 2 1 1\n",
      " 1 1 1 1 1 1 1 1 0 0 1 1 2 0 1 1 1 1 1 1 1 0 2 1 1 1 1 1 1 2 1 1 1 0 1 1 1\n",
      " 1 1 1 1 0 1 0 2 1 1 1 1 1 1 1 1 1 1 1 0 0 1 1 1 1 1 1 1 1 1 1 1 1 2 2 1 1\n",
      " 1 0 1 0 1 1 1 1 1 1 1 1 1 1 0 1 1 2 1 1 2 1 1 1 1 1 2 0 1 1 0 2 2 1 1 1 1\n",
      " 0 1 1 1 1 1 1 1 1 0 2 1 1 1 1 1 1 1 1 1 1 1 1 1 1 1 0 1 2 1 1 1 0 0 2 0 1\n",
      " 0 1 1 1 0 1 0 1 2 1 1 1 1 1 0 1 0 1 1 2 0 1 1 1 0 1 1 1 1 1 1 2 0 1 1 1 0\n",
      " 1 1 0 2 0 1 1 2 1 1 1 1 0 1 1 1 1 1 1]\n",
      "0.4332784184514003\n"
     ]
    }
   ],
   "source": [
    "from sklearn.neighbors import KNeighborsClassifier\n",
    "model = KNeighborsClassifier(n_neighbors=5)\n",
    "model.fit(X_train, y_train)\n",
    "y_pred = model.predict(X_test)\n",
    "print(y_pred[:500])\n",
    "from sklearn.metrics import accuracy_score\n",
    "print(accuracy_score(y_test,y_pred))"
   ]
  },
  {
   "cell_type": "markdown",
   "id": "50640b81-6a4f-4c70-a7ea-79e51f60a264",
   "metadata": {},
   "source": [
    "## Taking Input Data and Applying it in the model"
   ]
  },
  {
   "cell_type": "code",
   "execution_count": 13,
   "id": "23d30f7d-1125-47fd-96e5-4be1b69b812b",
   "metadata": {},
   "outputs": [
    {
     "name": "stdin",
     "output_type": "stream",
     "text": [
      "Enter The Data to Predict Gender & Age Group : Male 22-35_yrs\n"
     ]
    },
    {
     "name": "stdout",
     "output_type": "stream",
     "text": [
      "Done\n"
     ]
    }
   ],
   "source": [
    "import numpy as np\n",
    "X_Input = input('Enter The Data to Predict Gender & Age Group :').split()\n",
    "gen = [\"Female\",\"Male\"]\n",
    "gen_rep = [0,1]\n",
    "for i in range(len(gen)):\n",
    "    if X_Input[0] == gen[i]:\n",
    "        X_Input[0] = gen_rep[i]\n",
    "age_gr = [\"0-15_yrs\",\"16-21_yrs\",\"22-35_yrs\",\"36-45_yrs\",\"46-55_yrs\",\"56-64_yrs\",\"65+_yrs\"]\n",
    "age_gr_rep = [0,1,2,3,4,5,6]\n",
    "for j in range(len(age_gr)):\n",
    "    if X_Input[1] == age_gr[j]:\n",
    "        X_Input[1] = age_gr_rep[j]\n",
    "X_Input = np.array([X_Input])\n",
    "predict = model.predict(X_Input)\n",
    "stat = [0,1,2,3]\n",
    "stat_rep = [\"Cancelled\",\"Done\",\"No_Show\",\"Rescheduled\"]\n",
    "for k in range(len(stat)):\n",
    "    if predict == stat[k]:\n",
    "        predict = stat_rep[k]\n",
    "print(predict)"
   ]
  }
 ],
 "metadata": {
  "kernelspec": {
   "display_name": "Python 3",
   "language": "python",
   "name": "python3"
  },
  "language_info": {
   "codemirror_mode": {
    "name": "ipython",
    "version": 3
   },
   "file_extension": ".py",
   "mimetype": "text/x-python",
   "name": "python",
   "nbconvert_exporter": "python",
   "pygments_lexer": "ipython3",
   "version": "3.8.8"
  }
 },
 "nbformat": 4,
 "nbformat_minor": 5
}
